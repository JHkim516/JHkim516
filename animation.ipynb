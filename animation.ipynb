{
 "cells": [
  {
   "cell_type": "markdown",
   "metadata": {},
   "source": [
    "1. We first have to write the system of two second-order ODEs as a system of four first-order ODEs on standard form. To this end, we need to introduce new functions $\\text{ }y_1(t) = \\theta_1(t)$, $\\text{ }y_2(t) = \\dot{\\theta_1}(t)$, $\\text{ }y_3(t) = \\theta_2(t)$, $\\text{ }y_4(t) = \\dot{\\theta_2}(t)$, $\\text{ }$and rewrite the ODEs in terms of these functions."
   ]
  },
  {
   "cell_type": "code",
   "execution_count": 1,
   "metadata": {},
   "outputs": [],
   "source": [
    "%matplotlib qt\n",
    "import matplotlib.pyplot as plt\n",
    "import matplotlib as mpl\n",
    "\n",
    "import numpy as np\n",
    "from scipy import integrate\n",
    "import sympy\n",
    "sympy.init_printing()"
   ]
  },
  {
   "cell_type": "code",
   "execution_count": 2,
   "metadata": {},
   "outputs": [],
   "source": [
    "t, g, m1, l1, m2, l2 = sympy.symbols(\"t, g, m_1, l_1, m_2, l_2\")\n",
    "theta1, theta2 = sympy.symbols(\"theta_1, theta_2\", cls=sympy.Function)\n",
    "\n",
    "ode1 = sympy.Eq((m1 +m2) *l1 *theta1(t).diff(t,t) +\n",
    "                m2 *l2 *theta2(t).diff(t,t) *sympy.cos(theta1(t) -theta2(t)) +\n",
    "                m2 *l2 *theta2(t).diff(t)**2 *sympy.sin(theta1(t) -theta2(t)) + \n",
    "                g *(m1 +m2) *sympy.sin(theta1(t)), 0)\n",
    "\n",
    "ode2 = sympy.Eq(m2 *l2 *theta2(t).diff(t,t) +\n",
    "                m2 *l1 *theta1(t).diff(t,t) *sympy.cos(theta1(t) -theta2(t)) -\n",
    "                m2 *l1 *theta1(t).diff(t)**2 *sympy.sin(theta1(t) -theta2(t)) +\n",
    "                m2 *g *sympy.sin(theta2(t)), 0)\n",
    "\n",
    "y1, y2, y3, y4 = sympy.symbols(\"y_1, y_2, y_3, y_4\", cls=sympy.Function)\n",
    "\n",
    "varchange = {theta1(t).diff(t, t): y2(t).diff(t), \n",
    "             theta1(t): y1(t),\n",
    "             theta2(t).diff(t, t): y4(t).diff(t), \n",
    "             theta2(t): y3(t)}\n",
    "\n",
    "ode1_vc = ode1.subs(varchange)\n",
    "ode2_vc = ode2.subs(varchange)\n",
    "ode3 = y1(t).diff(t) - y2(t)\n",
    "ode4 = y3(t).diff(t) - y4(t)"
   ]
  },
  {
   "cell_type": "markdown",
   "metadata": {},
   "source": [
    "2. At this point, we have four coupled first-order ODEs for the functions $y_1$ to $y_4$. It only remains to solve for the derivatives of these functions to obtain the ODEs in standard form"
   ]
  },
  {
   "cell_type": "code",
   "execution_count": 3,
   "metadata": {},
   "outputs": [],
   "source": [
    "y = sympy.Matrix([y1(t), y2(t), y3(t), y4(t)])\n",
    "vcsol = sympy.solve((ode1_vc, ode2_vc, ode3, ode4), y.diff(t), dict=True)\n",
    "f = y.diff(t).subs(vcsol[0])"
   ]
  },
  {
   "cell_type": "code",
   "execution_count": 4,
   "metadata": {},
   "outputs": [],
   "source": [
    "jac = sympy.Matrix([[fj.diff(yi) for yi in y] for fj in f])\n",
    "\n",
    "params = {m1: 5.0, l1: 2.0, m2: 1.0, l2: 1.0, g: 9.8}\n",
    "\n",
    "f_np = sympy.lambdify((t, y), f.subs(params), 'numpy')\n",
    "jac_np = sympy.lambdify((t, y), jac.subs(params), 'numpy')\n",
    "\n",
    "y0 = [2.0, 0, 0.0, 0]\n",
    "t = np.linspace(0, 20, 1000)\n",
    "r = integrate.ode(f_np, jac_np).set_initial_value(y0, t[0])"
   ]
  },
  {
   "cell_type": "code",
   "execution_count": 5,
   "metadata": {},
   "outputs": [],
   "source": [
    "dt = t[1] -t[0]\n",
    "y = np.zeros((len(t), len(y0)))\n",
    "idx = 0\n",
    "while r.successful() and r.t < t[-1]:\n",
    "    y[idx, :] = r.y\n",
    "    r.integrate(r.t +dt)\n",
    "    idx += 1"
   ]
  },
  {
   "cell_type": "markdown",
   "metadata": {},
   "source": [
    "3. When visualizing this solution, it is more intuitive to animate the positions of the pendulums in the $x–y$ plane rather than their angular deflections"
   ]
  },
  {
   "cell_type": "code",
   "execution_count": 6,
   "metadata": {},
   "outputs": [],
   "source": [
    "theta1_np, theta2_np = y[:, 0], y[:, 2]\n",
    "\n",
    "x1 =  params[l1] *np.sin(theta1_np)\n",
    "y1 = -params[l1] *np.cos(theta1_np)\n",
    "x2 = x1 +params[l2] *np.sin(theta2_np)\n",
    "y2 = y1 -params[l2] *np.cos(theta2_np)"
   ]
  },
  {
   "cell_type": "markdown",
   "metadata": {},
   "source": [
    "**Construct the animation showing the complex oscillation of a double pendulum**"
   ]
  },
  {
   "cell_type": "code",
   "execution_count": 7,
   "metadata": {},
   "outputs": [],
   "source": [
    "import matplotlib.animation as animation\n",
    "\n",
    "fig = plt.figure()\n",
    "ax = fig.add_subplot(111, autoscale_on=False, xlim=(-3, 3), ylim=(-3, 3))\n",
    "ax.set_xlabel('$x$')\n",
    "ax.set_ylabel('$y$')\n",
    "ax.set_aspect('equal')\n",
    "ax.grid()\n",
    "\n",
    "line, = ax.plot([], [], 'ko-' , lw=2)\n",
    "time_template = 'time = %.1fs'\n",
    "time_text = ax.text(0.05, 0.9, '', transform=ax.transAxes)\n",
    "\n",
    "\n",
    "def init():\n",
    "    line.set_data([], [])\n",
    "    time_text.set_text('')\n",
    "    return line, time_text\n",
    "\n",
    "\n",
    "def animate(i):\n",
    "    thisx = [0, x1[i], x2[i]]\n",
    "    thisy = [0, y1[i], y2[i]]\n",
    "\n",
    "    line.set_data(thisx, thisy)\n",
    "    time_text.set_text(time_template % (i*dt))\n",
    "    return line, time_text\n",
    "\n",
    "\n",
    "ani = animation.FuncAnimation(fig, animate, range(1, len(y)),\n",
    "                              interval=dt*1000, blit=True, init_func=init)\n",
    "plt.show()"
   ]
  },
  {
   "cell_type": "code",
   "execution_count": null,
   "metadata": {},
   "outputs": [],
   "source": []
  }
 ],
 "metadata": {
  "kernelspec": {
   "display_name": "Python 3",
   "language": "python",
   "name": "python3"
  },
  "language_info": {
   "codemirror_mode": {
    "name": "ipython",
    "version": 3
   },
   "file_extension": ".py",
   "mimetype": "text/x-python",
   "name": "python",
   "nbconvert_exporter": "python",
   "pygments_lexer": "ipython3",
   "version": "3.7.6"
  }
 },
 "nbformat": 4,
 "nbformat_minor": 4
}

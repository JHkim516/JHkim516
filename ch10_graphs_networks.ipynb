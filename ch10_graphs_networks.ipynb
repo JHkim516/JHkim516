{
 "cells": [
  {
   "cell_type": "code",
   "execution_count": 1,
   "metadata": {},
   "outputs": [],
   "source": [
    "import matplotlib.pyplot as plt\n",
    "import networkx as nx\n",
    "\n",
    "import numpy as np\n",
    "import scipy.sparse as sp\n",
    "import scipy.sparse.linalg\n",
    "\n",
    "import json\n",
    "with open(\"./seoul-metro.json\") as f:\n",
    "          data = json.load(f)"
   ]
  },
  {
   "cell_type": "code",
   "execution_count": 2,
   "metadata": {},
   "outputs": [],
   "source": [
    "g = nx.Graph()\n",
    "\n",
    "for line in data.values():\n",
    "    g.add_edges_from(line[\"transfers\"])\n",
    "    g.add_weighted_edges_from(line[\"travel_times\"])\n",
    "\n",
    "for n1, n2 in g.edges():\n",
    "    g[n1][n2][\"transfer\"] = \"weight\" not in g[n1][n2]"
   ]
  },
  {
   "cell_type": "code",
   "execution_count": 3,
   "metadata": {},
   "outputs": [],
   "source": [
    "on_foot = [edge for edge in g.edges() if g.get_edge_data(*edge)[\"transfer\"]]\n",
    "on_train = [edge for edge in g.edges() if not g.get_edge_data(*edge)[\"transfer\"]]\n",
    "\n",
    "colors = [data[n[0].upper()][\"color\"] for n in g.nodes()]"
   ]
  },
  {
   "cell_type": "code",
   "execution_count": 4,
   "metadata": {},
   "outputs": [],
   "source": [
    "from networkx.drawing.nx_agraph import graphviz_layout"
   ]
  },
  {
   "cell_type": "code",
   "execution_count": 5,
   "metadata": {},
   "outputs": [],
   "source": [
    "%matplotlib qt\n",
    "\n",
    "fig, ax = plt.subplots(1, 1, figsize=(20, 15))\n",
    "\n",
    "pos = graphviz_layout(g, prog=\"neato\")\n",
    "nx.draw_networkx(g, pos, ax=ax, node_size=450, node_color=colors)\n",
    "nx.draw_networkx_labels(g, pos=pos, ax=ax, font_size=1)\n",
    "nx.draw_networkx_edges(g, pos=pos, ax=ax, edgelist=on_train, width=2)\n",
    "nx.draw_networkx_edges(g, pos=pos, ax=ax, edgelist=on_foot, edge_color=\"red\", width=2)\n",
    "\n",
    "for side in ['bottom','right','top','left']:\n",
    "    ax.spines[side].set_visible(False)\n",
    "\n",
    "ax.set_xticks([])\n",
    "ax.set_yticks([])\n",
    "ax.xaxis.set_ticks_position('none')\n",
    "ax.yaxis.set_ticks_position('none')"
   ]
  },
  {
   "cell_type": "code",
   "execution_count": 6,
   "metadata": {},
   "outputs": [
    {
     "data": {
      "text/plain": [
       "[('133', 6), ('426', 6), ('A02', 6)]"
      ]
     },
     "execution_count": 6,
     "metadata": {},
     "output_type": "execute_result"
    }
   ],
   "source": [
    "g_degree = dict(g.degree())\n",
    "d_max = max(g_degree.values())\n",
    "[(n,d) for (n,d) in g_degree.items() if d == d_max]"
   ]
  },
  {
   "cell_type": "code",
   "execution_count": 7,
   "metadata": {},
   "outputs": [
    {
     "data": {
      "text/plain": [
       "['124',\n",
       " '125',\n",
       " '126',\n",
       " '127',\n",
       " '128',\n",
       " '129',\n",
       " '130',\n",
       " '329',\n",
       " '328',\n",
       " '327',\n",
       " '326',\n",
       " '325',\n",
       " '324',\n",
       " '323',\n",
       " '322',\n",
       " '321',\n",
       " '320',\n",
       " '319']"
      ]
     },
     "execution_count": 7,
     "metadata": {},
     "output_type": "execute_result"
    }
   ],
   "source": [
    "p = nx.shortest_path(g, \"124\", \"319\"); p"
   ]
  },
  {
   "cell_type": "code",
   "execution_count": 8,
   "metadata": {},
   "outputs": [
    {
     "data": {
      "text/plain": [
       "48"
      ]
     },
     "execution_count": 8,
     "metadata": {},
     "output_type": "execute_result"
    }
   ],
   "source": [
    "np.sum([g[p[n]][p[n +1]][\"weight\"] for n in range(len(p) -1) if \"weight\" in g[p[n]][p[n +1]]])"
   ]
  },
  {
   "cell_type": "code",
   "execution_count": 9,
   "metadata": {},
   "outputs": [
    {
     "data": {
      "text/plain": [
       "['B24',\n",
       " 'B23',\n",
       " 'B22',\n",
       " 'B21',\n",
       " 'B20',\n",
       " 'B19',\n",
       " 'B18',\n",
       " 'B17',\n",
       " 'B16',\n",
       " 'B15',\n",
       " 'B14',\n",
       " 'B13',\n",
       " 'B12',\n",
       " 'B11',\n",
       " 'B10',\n",
       " '208',\n",
       " '207',\n",
       " '206',\n",
       " '205',\n",
       " '204',\n",
       " '535',\n",
       " '534',\n",
       " '329',\n",
       " '328',\n",
       " '327',\n",
       " '326',\n",
       " '325',\n",
       " '324',\n",
       " '323',\n",
       " '322',\n",
       " '321',\n",
       " '320',\n",
       " '319']"
      ]
     },
     "execution_count": 9,
     "metadata": {},
     "output_type": "execute_result"
    }
   ],
   "source": [
    "h = g.copy()\n",
    "for n1, n2 in h.edges():\n",
    "    if h[n1][n2][\"transfer\"]:\n",
    "        h[n1][n2][\"weight\"] = 5\n",
    "p = nx.shortest_path(h, \"B24\", \"319\")\n",
    "p"
   ]
  },
  {
   "cell_type": "code",
   "execution_count": 10,
   "metadata": {},
   "outputs": [
    {
     "data": {
      "text/plain": [
       "102"
      ]
     },
     "execution_count": 10,
     "metadata": {},
     "output_type": "execute_result"
    }
   ],
   "source": [
    "np.sum([h[p[n]][p[n +1]][\"weight\"] for n in range(len(p) -1)])"
   ]
  },
  {
   "cell_type": "code",
   "execution_count": 11,
   "metadata": {},
   "outputs": [
    {
     "data": {
      "text/plain": [
       "34"
      ]
     },
     "execution_count": 11,
     "metadata": {},
     "output_type": "execute_result"
    }
   ],
   "source": [
    "p = nx.shortest_path(h, \"A01\", \"K116\")\n",
    "np.sum([h[p[n]][p[n +1]][\"weight\"] for n in range(len(p) -1)])"
   ]
  },
  {
   "cell_type": "code",
   "execution_count": 12,
   "metadata": {},
   "outputs": [
    {
     "data": {
      "text/plain": [
       "<605x605 sparse matrix of type '<class 'numpy.intc'>'\n",
       "\twith 1410 stored elements in Compressed Sparse Row format>"
      ]
     },
     "execution_count": 12,
     "metadata": {},
     "output_type": "execute_result"
    }
   ],
   "source": [
    "A = nx.to_scipy_sparse_matrix(g); A"
   ]
  },
  {
   "cell_type": "code",
   "execution_count": 13,
   "metadata": {},
   "outputs": [
    {
     "data": {
      "image/png": "[encoded data removed]",
      "text/plain": [
       "<Figure size 576x288 with 2 Axes>"
      ]
     },
     "metadata": {
      "needs_background": "light"
     },
     "output_type": "display_data"
    }
   ],
   "source": [
    "perm = sp.csgraph.reverse_cuthill_mckee(A)\n",
    "def sp_permute(A, perm_r, perm_c):\n",
    "    M, N = A.shape\n",
    "    Pr = sp.coo_matrix((np.ones(M), (perm_r, np.arange(N)))).tocsr()\n",
    "    Pc = sp.coo_matrix((np.ones(M), (np.arange(M), perm_c))).tocsr()\n",
    "    return Pr.T *A *Pc.T\n",
    "\n",
    "%matplotlib inline\n",
    "fig, (ax1, ax2) = plt.subplots(1, 2, figsize=(8, 4))\n",
    "\n",
    "ax1.spy(A, markersize=2)\n",
    "ax2.spy(sp_permute(A, perm, perm), markersize=2)\n",
    "\n",
    "fig.tight_layout()"
   ]
  }
 ],
 "metadata": {
  "kernelspec": {
   "display_name": "Python 3",
   "language": "python",
   "name": "python3"
  },
  "language_info": {
   "codemirror_mode": {
    "name": "ipython",
    "version": 3
   },
   "file_extension": ".py",
   "mimetype": "text/x-python",
   "name": "python",
   "nbconvert_exporter": "python",
   "pygments_lexer": "ipython3",
   "version": "3.7.6"
  }
 },
 "nbformat": 4,
 "nbformat_minor": 4
}
